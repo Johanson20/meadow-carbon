{
 "cells": [
  {
   "cell_type": "code",
   "execution_count": null,
   "id": "0c8c808c",
   "metadata": {},
   "outputs": [],
   "source": [
    "import os, ee, pickle\n",
    "import warnings, math\n",
    "import pandas as pd\n",
    "import geopandas as gpd\n",
    "from datetime import datetime, timedelta"
   ]
  },
  {
   "cell_type": "code",
   "execution_count": null,
   "id": "b64d374c",
   "metadata": {},
   "outputs": [],
   "source": [
    "import geemap\n",
    "import ipyleaflet"
   ]
  },
  {
   "cell_type": "code",
   "execution_count": null,
   "id": "7f7d5fa0",
   "metadata": {},
   "outputs": [],
   "source": [
    "ee.Initialize()"
   ]
  },
  {
   "cell_type": "code",
   "execution_count": null,
   "id": "970a8f5c",
   "metadata": {},
   "outputs": [],
   "source": [
    "shapefile = gpd.read_file(\"AllPossibleMeadows_2024-02-12.shp\")"
   ]
  },
  {
   "cell_type": "code",
   "execution_count": null,
   "id": "5ff14bd3",
   "metadata": {},
   "outputs": [],
   "source": [
    "landsat8_collection = ee.ImageCollection(\"LANDSAT/LC08/C02/T1_L2\").filterDate('2018-10-01', '2019-10-01')\n",
    "flow_acc = ee.Image(\"WWF/HydroSHEDS/15ACC\").select('b1')\n",
    "gridmet = ee.ImageCollection(\"IDAHO_EPSCOR/GRIDMET\").filterDate('2018-10-01', '2019-10-01').select(['tmmn', 'tmmx'])\n",
    "dem = ee.Image('USGS/SRTMGL1_003').select('elevation')"
   ]
  },
  {
   "cell_type": "code",
   "execution_count": null,
   "id": "3af10731",
   "metadata": {},
   "outputs": [],
   "source": [
    "def maskImage(image):\n",
    "    quality = image.select('QA_PIXEL')\n",
    "    cloud = quality.bitwiseAnd(1 << 3).eq(0)    # mask out cloudy pixels\n",
    "    cloudShadow = quality.bitwiseAnd(1 << 4).eq(0)     # mask out cloud shadow\n",
    "    snow = quality.bitwiseAnd(1 <<5).eq(0)     # mask out snow\n",
    "    return image.updateMask(cloud).updateMask(cloudShadow).updateMask(snow)"
   ]
  },
  {
   "cell_type": "code",
   "execution_count": null,
   "id": "86880509",
   "metadata": {},
   "outputs": [],
   "source": [
    "meadowId = 5\n",
    "feature = shapefile.loc[meadowId, 'geometry']\n",
    "tot_area = shapefile.loc[meadowId, 'Area_km2']\n",
    "if feature.geom_type == 'Polygon':\n",
    "    shapefile_bbox = ee.Geometry.Polygon(list(feature.exterior.coords)).buffer(-5)\n",
    "elif feature.geom_type == 'MultiPolygon':\n",
    "    shapefile_bbox = ee.Geometry.MultiPolygon(list(list(poly.exterior.coords) for poly in feature.geoms)).buffer(-5)"
   ]
  },
  {
   "cell_type": "code",
   "execution_count": null,
   "id": "1eeb8aea",
   "metadata": {},
   "outputs": [],
   "source": [
    "landsat_images = landsat8_collection.filterBounds(shapefile_bbox).map(maskImage)\n",
    "image_list = landsat_images.toList(landsat_images.size())\n",
    "landsat_image = ee.Image(image_list.get(0))"
   ]
  },
  {
   "cell_type": "code",
   "execution_count": null,
   "id": "a2a5248a",
   "metadata": {},
   "outputs": [],
   "source": [
    "band_values = landsat_image.reduceRegion(ee.Reducer.toList(), shapefile_bbox, 30).getInfo()\n",
    "len(band_values['SR_B4'])"
   ]
  },
  {
   "cell_type": "code",
   "execution_count": null,
   "id": "940010a3",
   "metadata": {},
   "outputs": [],
   "source": [
    "def zoom_level(area=tot_area):\n",
    "    ''' zoom_level ranges from 10 (largest of 369.83082 km2) to 19 (smallest of 0.0007 km2) for all polygons\n",
    "     Each zoom-out approximately quadruples the area viewed (hence log 2)\n",
    "     calculate deviation or zoom-out extent from 19 '''\n",
    "    tradeoff = math.log2(area/0.0007)\n",
    "    return (19 - round(tradeoff/2))"
   ]
  },
  {
   "cell_type": "code",
   "execution_count": null,
   "id": "43b39db1",
   "metadata": {},
   "outputs": [],
   "source": [
    "Map = geemap.Map(center=list(feature.centroid.coords[0])[::-1], zoom=zoom_level())\n",
    "gdf_selected = gpd.GeoDataFrame(geometry=[feature])\n",
    "geo_data = ipyleaflet.GeoData(geo_dataframe=gdf_selected, style={'color': 'red', 'fillOpacity':0.01})\n",
    "\n",
    "Map.addLayer(landsat_image.clip(shapefile_bbox).mask(1), {'bands': ['SR_B4', 'SR_B3', 'SR_B2'], 'min': 0, 'max': 0.3}, 'Landsat Image', True, 0.5)\n",
    "Map.add_layer(geo_data)\n",
    "\n",
    "display(Map)"
   ]
  },
  {
   "cell_type": "code",
   "execution_count": null,
   "id": "a7426846",
   "metadata": {},
   "outputs": [],
   "source": [
    "from osgeo import gdal\n",
    "import numpy as np\n",
    "import matplotlib.pyplot as plt"
   ]
  },
  {
   "cell_type": "code",
   "execution_count": null,
   "id": "961ee3dd",
   "metadata": {},
   "outputs": [],
   "source": [
    "dataset = gdal.Open('Image_9320_168623.tif')\n",
    "\n",
    "band1 = dataset.GetRasterBand(1)\n",
    "band2 = dataset.GetRasterBand(2) \n",
    "band3 = dataset.GetRasterBand(3)\n",
    "b1 = band1.ReadAsArray() \n",
    "b2 = band2.ReadAsArray() \n",
    "b3 = band3.ReadAsArray() \n",
    "\n",
    "img = np.dstack((b1, b2, b3))\n",
    "f = plt.figure()\n",
    "plt.imshow(img)\n",
    "plt.show()\n",
    "\n",
    "dataset = None"
   ]
  },
  {
   "cell_type": "code",
   "execution_count": null,
   "id": "f3abba14",
   "metadata": {},
   "outputs": [],
   "source": []
  }
 ],
 "metadata": {
  "kernelspec": {
   "display_name": "Python 3 (ipykernel)",
   "language": "python",
   "name": "python3"
  },
  "language_info": {
   "codemirror_mode": {
    "name": "ipython",
    "version": 3
   },
   "file_extension": ".py",
   "mimetype": "text/x-python",
   "name": "python",
   "nbconvert_exporter": "python",
   "pygments_lexer": "ipython3",
   "version": "3.11.5"
  }
 },
 "nbformat": 4,
 "nbformat_minor": 5
}
