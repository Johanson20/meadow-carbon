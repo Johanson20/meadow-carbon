{
 "cells": [
  {
   "cell_type": "code",
   "execution_count": null,
   "id": "cbd98f4f",
   "metadata": {},
   "outputs": [],
   "source": [
    "import os, ee\n",
    "import geopandas as gpd"
   ]
  },
  {
   "cell_type": "code",
   "execution_count": null,
   "id": "e8918dcf",
   "metadata": {},
   "outputs": [],
   "source": [
    "# ee.Authenticate()\n",
    "ee.Initialize()"
   ]
  },
  {
   "cell_type": "code",
   "execution_count": null,
   "id": "8e2d9d18",
   "metadata": {},
   "outputs": [],
   "source": [
    "landsat8_collection = ee.ImageCollection(\"LANDSAT/LC08/C02/T1_L2\").filterDate('2022-07-01', '2022-07-31')"
   ]
  },
  {
   "cell_type": "code",
   "execution_count": null,
   "id": "5efc8eb6",
   "metadata": {},
   "outputs": [],
   "source": [
    "shapefile = gpd.read_file(\"AllPossibleMeadows_2024-02-12.shp\")"
   ]
  },
  {
   "cell_type": "code",
   "execution_count": null,
   "id": "49c42bbd",
   "metadata": {},
   "outputs": [],
   "source": [
    "import geemap\n",
    "import ipyleaflet\n",
    "import time, math\n",
    "import ipywidgets as widgets"
   ]
  },
  {
   "cell_type": "code",
   "execution_count": null,
   "id": "f0803ba5",
   "metadata": {},
   "outputs": [],
   "source": [
    "ids = shapefile.ID"
   ]
  },
  {
   "cell_type": "code",
   "execution_count": null,
   "id": "2816f2b6",
   "metadata": {},
   "outputs": [],
   "source": [
    "def zoom_level(area):\n",
    "    ''' zoom_level ranges from 10 (largest of 369.83082) to 19 (smallest of 0.0007 km2) for all polygons\n",
    "     Each zoom-out approximately quadruples the area viewed (hence log 2)\n",
    "     calculate deviation or zoom-out extent from 19 '''\n",
    "    tradeoff = math.log2(area/0.0007)\n",
    "    return (19 - round(tradeoff/2))"
   ]
  },
  {
   "cell_type": "code",
   "execution_count": null,
   "id": "d8f8c634",
   "metadata": {},
   "outputs": [],
   "source": [
    "selection = False\n",
    "def handle_selection(change):\n",
    "    global selection\n",
    "    if change['name'] == 'value' and change['new'] is not None:\n",
    "        selection = True"
   ]
  },
  {
   "cell_type": "code",
   "execution_count": null,
   "id": "3444f4ca",
   "metadata": {},
   "outputs": [],
   "source": [
    "toDel = []\n",
    "toEdit = []\n",
    "for i in ids[:3]:\n",
    "    row = shapefile[shapefile.ID == i].iloc[0]\n",
    "    feature = row.geometry\n",
    "    lon, lat = feature.centroid.coords[0]\n",
    "    \n",
    "    Map = geemap.Map(center=[lat, lon], zoom=zoom_level(row.Area_km2))\n",
    "    Map.add_basemap(\"SATELLITE\")\n",
    "    \n",
    "    gdf_selected = gpd.GeoDataFrame(geometry=[feature])\n",
    "    geo_data = ipyleaflet.GeoData(geo_dataframe=gdf_selected, style={'color': 'red', 'fillOpacity':0.01})\n",
    "    dropdown = widgets.Dropdown(options=[\"--- Select One ---\", \"Preserve\", \"Delete\", \"Edit later\"], \n",
    "                               value=\"--- Select One ---\", description=\"Take action:\")\n",
    "    dropdown.observe(handle_selection, names=\"value\")\n",
    "    output_control = ipyleaflet.WidgetControl(widget=dropdown, position=\"topright\")\n",
    "    \n",
    "    Map.add_layer(geo_data)\n",
    "    Map.add_control(output_control)\n",
    "    display(Map)\n",
    "    \n",
    "    while not selection:\n",
    "        pass\n",
    "    selection = False\n",
    "    \n",
    "    if dropdown.value == \"Delete\":\n",
    "        toDel.append(i)\n",
    "    elif dropdown.value == \"Edit later\":\n",
    "        toEdit.append(i)\n",
    "    print('done')\n",
    "    #time.sleep(5)\n",
    "    Map.close()"
   ]
  },
  {
   "cell_type": "code",
   "execution_count": null,
   "id": "2247e1df",
   "metadata": {},
   "outputs": [],
   "source": [
    "print(toEdit)\n",
    "print(toDel)\n",
    "print(dropdown.value)"
   ]
  },
  {
   "cell_type": "code",
   "execution_count": null,
   "id": "0e35b80a",
   "metadata": {},
   "outputs": [],
   "source": []
  }
 ],
 "metadata": {
  "kernelspec": {
   "display_name": "Python 3 (ipykernel)",
   "language": "python",
   "name": "python3"
  },
  "language_info": {
   "codemirror_mode": {
    "name": "ipython",
    "version": 3
   },
   "file_extension": ".py",
   "mimetype": "text/x-python",
   "name": "python",
   "nbconvert_exporter": "python",
   "pygments_lexer": "ipython3",
   "version": "3.11.5"
  }
 },
 "nbformat": 4,
 "nbformat_minor": 5
}
