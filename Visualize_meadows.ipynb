{
 "cells": [
  {
   "cell_type": "code",
   "execution_count": 1,
   "id": "cbd98f4f",
   "metadata": {},
   "outputs": [],
   "source": [
    "import os, ee, pickle\n",
    "import geopandas as gpd"
   ]
  },
  {
   "cell_type": "code",
   "execution_count": 2,
   "id": "e8918dcf",
   "metadata": {},
   "outputs": [
    {
     "data": {
      "text/plain": [
       "True"
      ]
     },
     "execution_count": 2,
     "metadata": {},
     "output_type": "execute_result"
    }
   ],
   "source": [
    "ee.Authenticate()\n",
    "#ee.Initialize()"
   ]
  },
  {
   "cell_type": "code",
   "execution_count": 6,
   "id": "8e2d9d18",
   "metadata": {},
   "outputs": [
    {
     "ename": "EEException",
     "evalue": "Not signed up for Earth Engine or project is not registered. Visit https://developers.google.com/earth-engine/guides/access",
     "output_type": "error",
     "traceback": [
      "\u001b[1;31m---------------------------------------------------------------------------\u001b[0m",
      "\u001b[1;31mHttpError\u001b[0m                                 Traceback (most recent call last)",
      "File \u001b[1;32m~\\AppData\\Local\\anaconda3\\Lib\\site-packages\\ee\\data.py:394\u001b[0m, in \u001b[0;36m_execute_cloud_call\u001b[1;34m(call, num_retries)\u001b[0m\n\u001b[0;32m    393\u001b[0m \u001b[38;5;28;01mtry\u001b[39;00m:\n\u001b[1;32m--> 394\u001b[0m   \u001b[38;5;28;01mreturn\u001b[39;00m call\u001b[38;5;241m.\u001b[39mexecute(num_retries\u001b[38;5;241m=\u001b[39mnum_retries)\n\u001b[0;32m    395\u001b[0m \u001b[38;5;28;01mexcept\u001b[39;00m googleapiclient\u001b[38;5;241m.\u001b[39merrors\u001b[38;5;241m.\u001b[39mHttpError \u001b[38;5;28;01mas\u001b[39;00m e:\n",
      "File \u001b[1;32m~\\AppData\\Local\\anaconda3\\Lib\\site-packages\\googleapiclient\\_helpers.py:130\u001b[0m, in \u001b[0;36mpositional.<locals>.positional_decorator.<locals>.positional_wrapper\u001b[1;34m(*args, **kwargs)\u001b[0m\n\u001b[0;32m    129\u001b[0m         logger\u001b[38;5;241m.\u001b[39mwarning(message)\n\u001b[1;32m--> 130\u001b[0m \u001b[38;5;28;01mreturn\u001b[39;00m wrapped(\u001b[38;5;241m*\u001b[39margs, \u001b[38;5;241m*\u001b[39m\u001b[38;5;241m*\u001b[39mkwargs)\n",
      "File \u001b[1;32m~\\AppData\\Local\\anaconda3\\Lib\\site-packages\\googleapiclient\\http.py:938\u001b[0m, in \u001b[0;36mHttpRequest.execute\u001b[1;34m(self, http, num_retries)\u001b[0m\n\u001b[0;32m    937\u001b[0m \u001b[38;5;28;01mif\u001b[39;00m resp\u001b[38;5;241m.\u001b[39mstatus \u001b[38;5;241m>\u001b[39m\u001b[38;5;241m=\u001b[39m \u001b[38;5;241m300\u001b[39m:\n\u001b[1;32m--> 938\u001b[0m     \u001b[38;5;28;01mraise\u001b[39;00m HttpError(resp, content, uri\u001b[38;5;241m=\u001b[39m\u001b[38;5;28mself\u001b[39m\u001b[38;5;241m.\u001b[39muri)\n\u001b[0;32m    939\u001b[0m \u001b[38;5;28;01mreturn\u001b[39;00m \u001b[38;5;28mself\u001b[39m\u001b[38;5;241m.\u001b[39mpostproc(resp, content)\n",
      "\u001b[1;31mHttpError\u001b[0m: <HttpError 403 when requesting https://earthengine.googleapis.com/v1/projects/earthengine-legacy/algorithms?prettyPrint=false&alt=json returned \"Not signed up for Earth Engine or project is not registered. Visit https://developers.google.com/earth-engine/guides/access\". Details: \"Not signed up for Earth Engine or project is not registered. Visit https://developers.google.com/earth-engine/guides/access\">",
      "\nDuring handling of the above exception, another exception occurred:\n",
      "\u001b[1;31mEEException\u001b[0m                               Traceback (most recent call last)",
      "Cell \u001b[1;32mIn[6], line 1\u001b[0m\n\u001b[1;32m----> 1\u001b[0m landsat8_collection \u001b[38;5;241m=\u001b[39m ee\u001b[38;5;241m.\u001b[39mImageCollection(\u001b[38;5;124m\"\u001b[39m\u001b[38;5;124mLANDSAT/LC08/C02/T1_L2\u001b[39m\u001b[38;5;124m\"\u001b[39m)\u001b[38;5;241m.\u001b[39mfilterDate(\u001b[38;5;124m'\u001b[39m\u001b[38;5;124m2022-07-01\u001b[39m\u001b[38;5;124m'\u001b[39m, \u001b[38;5;124m'\u001b[39m\u001b[38;5;124m2022-07-31\u001b[39m\u001b[38;5;124m'\u001b[39m)\n",
      "File \u001b[1;32m~\\AppData\\Local\\anaconda3\\Lib\\site-packages\\ee\\computedobject.py:28\u001b[0m, in \u001b[0;36mComputedObjectMetaclass.__call__\u001b[1;34m(cls, *args, **kwargs)\u001b[0m\n\u001b[0;32m     26\u001b[0m   \u001b[38;5;28;01mreturn\u001b[39;00m args[\u001b[38;5;241m0\u001b[39m]\n\u001b[0;32m     27\u001b[0m \u001b[38;5;28;01melse\u001b[39;00m:\n\u001b[1;32m---> 28\u001b[0m   \u001b[38;5;28;01mreturn\u001b[39;00m \u001b[38;5;28mtype\u001b[39m\u001b[38;5;241m.\u001b[39m\u001b[38;5;21m__call__\u001b[39m(\u001b[38;5;28mcls\u001b[39m, \u001b[38;5;241m*\u001b[39margs, \u001b[38;5;241m*\u001b[39m\u001b[38;5;241m*\u001b[39mkwargs)\n",
      "File \u001b[1;32m~\\AppData\\Local\\anaconda3\\Lib\\site-packages\\ee\\imagecollection.py:40\u001b[0m, in \u001b[0;36mImageCollection.__init__\u001b[1;34m(self, args)\u001b[0m\n\u001b[0;32m     26\u001b[0m \u001b[38;5;28;01mdef\u001b[39;00m \u001b[38;5;21m__init__\u001b[39m(\u001b[38;5;28mself\u001b[39m, args: Any):\n\u001b[0;32m     27\u001b[0m \u001b[38;5;250m  \u001b[39m\u001b[38;5;124;03m\"\"\"ImageCollection constructor.\u001b[39;00m\n\u001b[0;32m     28\u001b[0m \n\u001b[0;32m     29\u001b[0m \u001b[38;5;124;03m  Args:\u001b[39;00m\n\u001b[1;32m   (...)\u001b[0m\n\u001b[0;32m     38\u001b[0m \u001b[38;5;124;03m    EEException: if passed something other than the above.\u001b[39;00m\n\u001b[0;32m     39\u001b[0m \u001b[38;5;124;03m  \"\"\"\u001b[39;00m\n\u001b[1;32m---> 40\u001b[0m   \u001b[38;5;28mself\u001b[39m\u001b[38;5;241m.\u001b[39minitialize()\n\u001b[0;32m     42\u001b[0m   \u001b[38;5;66;03m# Wrap single images in an array.\u001b[39;00m\n\u001b[0;32m     43\u001b[0m   \u001b[38;5;28;01mif\u001b[39;00m \u001b[38;5;28misinstance\u001b[39m(args, image\u001b[38;5;241m.\u001b[39mImage):\n",
      "File \u001b[1;32m~\\AppData\\Local\\anaconda3\\Lib\\site-packages\\ee\\imagecollection.py:74\u001b[0m, in \u001b[0;36mImageCollection.initialize\u001b[1;34m(cls)\u001b[0m\n\u001b[0;32m     72\u001b[0m \u001b[38;5;250m\u001b[39m\u001b[38;5;124;03m\"\"\"Imports API functions to this class.\"\"\"\u001b[39;00m\n\u001b[0;32m     73\u001b[0m \u001b[38;5;28;01mif\u001b[39;00m \u001b[38;5;129;01mnot\u001b[39;00m \u001b[38;5;28mcls\u001b[39m\u001b[38;5;241m.\u001b[39m_initialized:\n\u001b[1;32m---> 74\u001b[0m   \u001b[38;5;28msuper\u001b[39m()\u001b[38;5;241m.\u001b[39minitialize()\n\u001b[0;32m     75\u001b[0m   apifunction\u001b[38;5;241m.\u001b[39mApiFunction\u001b[38;5;241m.\u001b[39mimportApi(\u001b[38;5;28mcls\u001b[39m, \u001b[38;5;28mcls\u001b[39m\u001b[38;5;241m.\u001b[39mname(), \u001b[38;5;28mcls\u001b[39m\u001b[38;5;241m.\u001b[39mname())\n\u001b[0;32m     76\u001b[0m   apifunction\u001b[38;5;241m.\u001b[39mApiFunction\u001b[38;5;241m.\u001b[39mimportApi(\u001b[38;5;28mcls\u001b[39m, \u001b[38;5;124m'\u001b[39m\u001b[38;5;124mreduce\u001b[39m\u001b[38;5;124m'\u001b[39m, \u001b[38;5;28mcls\u001b[39m\u001b[38;5;241m.\u001b[39mname())\n",
      "File \u001b[1;32m~\\AppData\\Local\\anaconda3\\Lib\\site-packages\\ee\\collection.py:45\u001b[0m, in \u001b[0;36mCollection.initialize\u001b[1;34m(cls)\u001b[0m\n\u001b[0;32m     43\u001b[0m \u001b[38;5;250m\u001b[39m\u001b[38;5;124;03m\"\"\"Imports API functions to this class.\"\"\"\u001b[39;00m\n\u001b[0;32m     44\u001b[0m \u001b[38;5;28;01mif\u001b[39;00m \u001b[38;5;129;01mnot\u001b[39;00m \u001b[38;5;28mcls\u001b[39m\u001b[38;5;241m.\u001b[39m_initialized:\n\u001b[1;32m---> 45\u001b[0m   apifunction\u001b[38;5;241m.\u001b[39mApiFunction\u001b[38;5;241m.\u001b[39mimportApi(\u001b[38;5;28mcls\u001b[39m, \u001b[38;5;28mcls\u001b[39m\u001b[38;5;241m.\u001b[39mname(), \u001b[38;5;28mcls\u001b[39m\u001b[38;5;241m.\u001b[39mname())\n\u001b[0;32m     46\u001b[0m   apifunction\u001b[38;5;241m.\u001b[39mApiFunction\u001b[38;5;241m.\u001b[39mimportApi(\n\u001b[0;32m     47\u001b[0m       \u001b[38;5;28mcls\u001b[39m, \u001b[38;5;124m'\u001b[39m\u001b[38;5;124mAggregateFeatureCollection\u001b[39m\u001b[38;5;124m'\u001b[39m, \u001b[38;5;28mcls\u001b[39m\u001b[38;5;241m.\u001b[39mname(), \u001b[38;5;124m'\u001b[39m\u001b[38;5;124maggregate_\u001b[39m\u001b[38;5;124m'\u001b[39m)\n\u001b[0;32m     48\u001b[0m   \u001b[38;5;28mcls\u001b[39m\u001b[38;5;241m.\u001b[39m_initialized \u001b[38;5;241m=\u001b[39m \u001b[38;5;28;01mTrue\u001b[39;00m\n",
      "File \u001b[1;32m~\\AppData\\Local\\anaconda3\\Lib\\site-packages\\ee\\_utils.py:38\u001b[0m, in \u001b[0;36maccept_opt_prefix.<locals>.opt_fixed.<locals>.wrapper\u001b[1;34m(*args, **kwargs)\u001b[0m\n\u001b[0;32m     36\u001b[0m     \u001b[38;5;28;01mif\u001b[39;00m new_key \u001b[38;5;129;01mnot\u001b[39;00m \u001b[38;5;129;01min\u001b[39;00m kwargs:\n\u001b[0;32m     37\u001b[0m       kwargs[new_key] \u001b[38;5;241m=\u001b[39m old_key_val\n\u001b[1;32m---> 38\u001b[0m \u001b[38;5;28;01mreturn\u001b[39;00m func(\u001b[38;5;241m*\u001b[39margs, \u001b[38;5;241m*\u001b[39m\u001b[38;5;241m*\u001b[39mkwargs)\n",
      "File \u001b[1;32m~\\AppData\\Local\\anaconda3\\Lib\\site-packages\\ee\\apifunction.py:197\u001b[0m, in \u001b[0;36mApiFunction.importApi\u001b[1;34m(cls, target, prefix, type_name, prepend)\u001b[0m\n\u001b[0;32m    177\u001b[0m \u001b[38;5;129m@classmethod\u001b[39m\n\u001b[0;32m    178\u001b[0m \u001b[38;5;129m@_utils\u001b[39m\u001b[38;5;241m.\u001b[39maccept_opt_prefix(\u001b[38;5;124m'\u001b[39m\u001b[38;5;124mopt_prepend\u001b[39m\u001b[38;5;124m'\u001b[39m)\n\u001b[0;32m    179\u001b[0m \u001b[38;5;28;01mdef\u001b[39;00m \u001b[38;5;21mimportApi\u001b[39m(\n\u001b[1;32m   (...)\u001b[0m\n\u001b[0;32m    184\u001b[0m     prepend: Optional[\u001b[38;5;28mstr\u001b[39m] \u001b[38;5;241m=\u001b[39m \u001b[38;5;28;01mNone\u001b[39;00m,\n\u001b[0;32m    185\u001b[0m ) \u001b[38;5;241m-\u001b[39m\u001b[38;5;241m>\u001b[39m \u001b[38;5;28;01mNone\u001b[39;00m:\n\u001b[0;32m    186\u001b[0m \u001b[38;5;250m  \u001b[39m\u001b[38;5;124;03m\"\"\"Adds all API functions that begin with a given prefix to a target class.\u001b[39;00m\n\u001b[0;32m    187\u001b[0m \n\u001b[0;32m    188\u001b[0m \u001b[38;5;124;03m  Args:\u001b[39;00m\n\u001b[1;32m   (...)\u001b[0m\n\u001b[0;32m    195\u001b[0m \u001b[38;5;124;03m      functions.\u001b[39;00m\n\u001b[0;32m    196\u001b[0m \u001b[38;5;124;03m  \"\"\"\u001b[39;00m\n\u001b[1;32m--> 197\u001b[0m   \u001b[38;5;28mcls\u001b[39m\u001b[38;5;241m.\u001b[39minitialize()\n\u001b[0;32m    198\u001b[0m   prepend \u001b[38;5;241m=\u001b[39m prepend \u001b[38;5;129;01mor\u001b[39;00m \u001b[38;5;124m'\u001b[39m\u001b[38;5;124m'\u001b[39m\n\u001b[0;32m    199\u001b[0m   \u001b[38;5;28;01mfor\u001b[39;00m name, api_func \u001b[38;5;129;01min\u001b[39;00m \u001b[38;5;28mcls\u001b[39m\u001b[38;5;241m.\u001b[39m_api\u001b[38;5;241m.\u001b[39mitems():\n",
      "File \u001b[1;32m~\\AppData\\Local\\anaconda3\\Lib\\site-packages\\ee\\apifunction.py:161\u001b[0m, in \u001b[0;36mApiFunction.initialize\u001b[1;34m(cls)\u001b[0m\n\u001b[0;32m    159\u001b[0m \u001b[38;5;250m\u001b[39m\u001b[38;5;124;03m\"\"\"Initializes the list of signatures from the Earth Engine front-end.\"\"\"\u001b[39;00m\n\u001b[0;32m    160\u001b[0m \u001b[38;5;28;01mif\u001b[39;00m \u001b[38;5;129;01mnot\u001b[39;00m \u001b[38;5;28mcls\u001b[39m\u001b[38;5;241m.\u001b[39m_api:\n\u001b[1;32m--> 161\u001b[0m   signatures \u001b[38;5;241m=\u001b[39m data\u001b[38;5;241m.\u001b[39mgetAlgorithms()\n\u001b[0;32m    162\u001b[0m   api \u001b[38;5;241m=\u001b[39m {}\n\u001b[0;32m    163\u001b[0m   \u001b[38;5;28;01mfor\u001b[39;00m name, sig \u001b[38;5;129;01min\u001b[39;00m signatures\u001b[38;5;241m.\u001b[39mitems():\n\u001b[0;32m    164\u001b[0m     \u001b[38;5;66;03m# Strip type parameters.\u001b[39;00m\n",
      "File \u001b[1;32m~\\AppData\\Local\\anaconda3\\Lib\\site-packages\\ee\\data.py:1460\u001b[0m, in \u001b[0;36mgetAlgorithms\u001b[1;34m()\u001b[0m\n\u001b[0;32m   1455\u001b[0m     \u001b[38;5;28mprint\u001b[39m(\n\u001b[0;32m   1456\u001b[0m         \u001b[38;5;124m'\u001b[39m\u001b[38;5;124m*** Earth Engine ***\u001b[39m\u001b[38;5;124m'\u001b[39m,\n\u001b[0;32m   1457\u001b[0m         response[_INIT_MESSAGE_HEADER],\n\u001b[0;32m   1458\u001b[0m         file\u001b[38;5;241m=\u001b[39msys\u001b[38;5;241m.\u001b[39mstderr)\n\u001b[0;32m   1459\u001b[0m call\u001b[38;5;241m.\u001b[39madd_response_callback(inspect)\n\u001b[1;32m-> 1460\u001b[0m \u001b[38;5;28;01mreturn\u001b[39;00m _cloud_api_utils\u001b[38;5;241m.\u001b[39mconvert_algorithms(_execute_cloud_call(call))\n",
      "File \u001b[1;32m~\\AppData\\Local\\anaconda3\\Lib\\site-packages\\ee\\data.py:396\u001b[0m, in \u001b[0;36m_execute_cloud_call\u001b[1;34m(call, num_retries)\u001b[0m\n\u001b[0;32m    394\u001b[0m   \u001b[38;5;28;01mreturn\u001b[39;00m call\u001b[38;5;241m.\u001b[39mexecute(num_retries\u001b[38;5;241m=\u001b[39mnum_retries)\n\u001b[0;32m    395\u001b[0m \u001b[38;5;28;01mexcept\u001b[39;00m googleapiclient\u001b[38;5;241m.\u001b[39merrors\u001b[38;5;241m.\u001b[39mHttpError \u001b[38;5;28;01mas\u001b[39;00m e:\n\u001b[1;32m--> 396\u001b[0m   \u001b[38;5;28;01mraise\u001b[39;00m _translate_cloud_exception(e)\n",
      "\u001b[1;31mEEException\u001b[0m: Not signed up for Earth Engine or project is not registered. Visit https://developers.google.com/earth-engine/guides/access"
     ]
    }
   ],
   "source": [
    "landsat8_collection = ee.ImageCollection(\"LANDSAT/LC08/C02/T1_L2\").filterDate('2022-07-01', '2022-07-31')"
   ]
  },
  {
   "cell_type": "code",
   "execution_count": null,
   "id": "5efc8eb6",
   "metadata": {},
   "outputs": [],
   "source": [
    "shapefile = gpd.read_file(\"files/AllPossibleMeadows_2024-02-12.shp\")"
   ]
  },
  {
   "cell_type": "code",
   "execution_count": null,
   "id": "49c42bbd",
   "metadata": {},
   "outputs": [],
   "source": [
    "import geemap\n",
    "import ipyleaflet\n",
    "import time, math\n",
    "import ipywidgets as widgets"
   ]
  },
  {
   "cell_type": "code",
   "execution_count": null,
   "id": "f0803ba5",
   "metadata": {},
   "outputs": [],
   "source": [
    "ids = shapefile.ID\n",
    "\n",
    "def getIdx():\n",
    "    for idx in ids:\n",
    "        yield idx\n",
    "\n",
    "myIds = getIdx()\n",
    "i = -1"
   ]
  },
  {
   "cell_type": "code",
   "execution_count": null,
   "id": "2816f2b6",
   "metadata": {},
   "outputs": [],
   "source": [
    "def zoom_level(area):\n",
    "    ''' zoom_level ranges from 10 (largest of 369.83082 km2) to 19 (smallest of 0.0007 km2) for all polygons\n",
    "     Each zoom-out approximately quadruples the area viewed (hence log 2)\n",
    "     calculate deviation or zoom-out extent from 19 '''\n",
    "    tradeoff = math.log2(area/0.0007)\n",
    "    return (19 - round(tradeoff/2))"
   ]
  },
  {
   "cell_type": "code",
   "execution_count": null,
   "id": "d8f8c634",
   "metadata": {},
   "outputs": [],
   "source": [
    "toDel = []\n",
    "toEdit = []\n",
    "toPres = []\n",
    "\n",
    "# pre-define map (map would be closed after each iteration) and dropdown object (to check selections)\n",
    "Map = geemap.Map()\n",
    "dropdown = widgets.Dropdown(options=[\"Preserve\", \"Delete\", \"Edit later\"], style={\"description_width\": \"initial\"}, \n",
    "                            value=None, description=\"Take action (Meadow ID = 0): \")"
   ]
  },
  {
   "cell_type": "code",
   "execution_count": null,
   "id": "f3a29773",
   "metadata": {},
   "outputs": [],
   "source": [
    "# Load previously saved data if such was saved\n",
    "\n",
    "try:\n",
    "    f = open('files/vars.pckl', 'rb')\n",
    "    toDel, toEdit, toPres, i = pickle.load(f)\n",
    "    f.close()\n",
    "    ids = ids[i+1:]\n",
    "except:\n",
    "    pass"
   ]
  },
  {
   "cell_type": "code",
   "execution_count": null,
   "id": "3444f4ca",
   "metadata": {},
   "outputs": [],
   "source": [
    "idx = next(myIds)\n",
    "row = shapefile[shapefile.ID == idx].iloc[0]\n",
    "feature = row.geometry\n",
    "lon, lat = feature.centroid.coords[0]\n",
    "\n",
    "Map.close()\n",
    "Map = geemap.Map(center=[lat, lon], zoom=zoom_level(row.Area_km2))\n",
    "Map.add_basemap(\"SATELLITE\")\n",
    "\n",
    "gdf_selected = gpd.GeoDataFrame(geometry=[feature])\n",
    "geo_data = ipyleaflet.GeoData(geo_dataframe=gdf_selected, style={'color': 'red', 'fillOpacity':0.01})\n",
    "dropdown = widgets.Dropdown(options=[\"Preserve\", \"Delete\", \"Edit later\"], style={\"description_width\": \"initial\"}, \n",
    "                            value=None, description=\"Take action (Meadow ID = \" + str(int(idx)) + \"):\")\n",
    "output_control = ipyleaflet.WidgetControl(widget=dropdown, position=\"topright\")\n",
    "\n",
    "Map.add_layer(geo_data)\n",
    "Map.add_control(output_control)\n",
    "i += 1\n",
    "display(Map)"
   ]
  },
  {
   "cell_type": "code",
   "execution_count": null,
   "id": "f13015e8",
   "metadata": {},
   "outputs": [],
   "source": [
    "# appends indices of choices made in map to lists for future processing\n",
    "if dropdown.value == \"Delete\":\n",
    "    toDel.append(i)\n",
    "elif dropdown.value == \"Edit later\":\n",
    "    toEdit.append(i)\n",
    "elif dropdown.value == \"Preserve\":\n",
    "    toPres.append(i)\n",
    "else:\n",
    "    print(\"Please make a selection for the above displayed meadow\")\n",
    "\n",
    "if (len(toDel) + len(toEdit) + len(toPres)) == len(ids):\n",
    "    print(\"Meadow iteration is complete!\")"
   ]
  },
  {
   "cell_type": "code",
   "execution_count": null,
   "id": "2247e1df",
   "metadata": {},
   "outputs": [],
   "source": [
    "print(\"Latest meadow ID:\", idx, end='\\n\\n')\n",
    "print(\"Indexes to be deleted:\", toDel, end='\\n\\n\\n')\n",
    "print(\"Meadow IDs to be edited later:\", toEdit, end='\\n\\n\\n')\n",
    "print(\"Preserving IDs:\", toPres)"
   ]
  },
  {
   "cell_type": "code",
   "execution_count": null,
   "id": "549a2a5c",
   "metadata": {},
   "outputs": [],
   "source": [
    "# Save your variables here\n",
    "\n",
    "f = open('files/vars.pckl', 'wb')\n",
    "pickle.dump([toDel, toEdit, toPres, i], f)\n",
    "f.close()"
   ]
  },
  {
   "cell_type": "code",
   "execution_count": null,
   "id": "0e35b80a",
   "metadata": {},
   "outputs": [],
   "source": [
    "# delete non-meadows (if any were marked for deletion) and write data to new shapefile\n",
    "if toDel:\n",
    "    shapefile.drop(index=toDel, inplace=True)\n",
    "shapefile.to_file('files/Real_Meadows.shp', driver='ESRI Shapefile')\n",
    "\n",
    "# add column representing those to be edited (if any were marked for editing) and write to csv\n",
    "if toEdit:\n",
    "    shapefile['Action'] = None\n",
    "    shapefile.loc[toEdit, 'Action'] = 'Edit'\n",
    "cols = list(shapefile.columns)\n",
    "cols.remove('geometry')\n",
    "shapefile.loc[toEdit, cols].to_csv('csv/Real_meadows.csv', index=False)"
   ]
  },
  {
   "cell_type": "code",
   "execution_count": null,
   "id": "523c5c3a",
   "metadata": {},
   "outputs": [],
   "source": []
  }
 ],
 "metadata": {
  "kernelspec": {
   "display_name": "Python 3 (ipykernel)",
   "language": "python",
   "name": "python3"
  },
  "language_info": {
   "codemirror_mode": {
    "name": "ipython",
    "version": 3
   },
   "file_extension": ".py",
   "mimetype": "text/x-python",
   "name": "python",
   "nbconvert_exporter": "python",
   "pygments_lexer": "ipython3",
   "version": "3.11.5"
  }
 },
 "nbformat": 4,
 "nbformat_minor": 5
}
