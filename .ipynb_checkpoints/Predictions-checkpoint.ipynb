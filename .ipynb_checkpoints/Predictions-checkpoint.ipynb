{
 "cells": [
  {
   "cell_type": "markdown",
   "id": "1165416d",
   "metadata": {},
   "source": [
    "# Visualize meadows on Google Satellite"
   ]
  },
  {
   "cell_type": "code",
   "execution_count": null,
   "id": "0c8c808c",
   "metadata": {},
   "outputs": [],
   "source": [
    "import os, ee, pickle\n",
    "import warnings, math\n",
    "import pandas as pd\n",
    "import geopandas as gpd\n",
    "from datetime import datetime, timedelta"
   ]
  },
  {
   "cell_type": "code",
   "execution_count": null,
   "id": "b64d374c",
   "metadata": {},
   "outputs": [],
   "source": [
    "import geemap\n",
    "import ipyleaflet"
   ]
  },
  {
   "cell_type": "code",
   "execution_count": null,
   "id": "7f7d5fa0",
   "metadata": {},
   "outputs": [],
   "source": [
    "ee.Initialize()"
   ]
  },
  {
   "cell_type": "code",
   "execution_count": null,
   "id": "970a8f5c",
   "metadata": {},
   "outputs": [],
   "source": [
    "shapefile = gpd.read_file(\"files/AllPossibleMeadows_2024-02-12.shp\")"
   ]
  },
  {
   "cell_type": "code",
   "execution_count": null,
   "id": "5ff14bd3",
   "metadata": {},
   "outputs": [],
   "source": [
    "landsat8_collection = ee.ImageCollection(\"LANDSAT/LC08/C02/T1_L2\").filterDate('2018-10-01', '2019-10-01')"
   ]
  },
  {
   "cell_type": "code",
   "execution_count": null,
   "id": "3af10731",
   "metadata": {},
   "outputs": [],
   "source": [
    "def maskImage(image):\n",
    "    qa = image.select('QA_PIXEL')\n",
    "    # mask out cloud based on bits in QA_pixel\n",
    "    dilated_cloud = qa.bitwiseAnd(1 << 1).eq(0)\n",
    "    cirrus = qa.bitwiseAnd(1 << 2).eq(0)\n",
    "    cloud = qa.bitwiseAnd(1 << 3).eq(0)\n",
    "    cloudShadow = qa.bitwiseAnd(1 << 4).eq(0)\n",
    "    cloud_mask = dilated_cloud.And(cirrus).And(cloud).And(cloudShadow)\n",
    "    return image.updateMask(cloud_mask)"
   ]
  },
  {
   "cell_type": "code",
   "execution_count": null,
   "id": "86880509",
   "metadata": {},
   "outputs": [],
   "source": [
    "meadowId = 17238\n",
    "feature = shapefile.loc[meadowId, 'geometry']\n",
    "tot_area = shapefile.loc[meadowId, 'Area_km2']\n",
    "if feature.geom_type == 'Polygon':\n",
    "    shapefile_bbox = ee.Geometry.Polygon(list(feature.exterior.coords)).buffer(-5)\n",
    "elif feature.geom_type == 'MultiPolygon':\n",
    "    shapefile_bbox = ee.Geometry.MultiPolygon(list(list(poly.exterior.coords) for poly in feature.geoms)).buffer(-5)"
   ]
  },
  {
   "cell_type": "code",
   "execution_count": null,
   "id": "1eeb8aea",
   "metadata": {},
   "outputs": [],
   "source": [
    "landsat_images = landsat8_collection.filterBounds(shapefile_bbox).map(maskImage)\n",
    "landsat_image = landsat_images.first().clip(shapefile_bbox)"
   ]
  },
  {
   "cell_type": "code",
   "execution_count": null,
   "id": "a2a5248a",
   "metadata": {},
   "outputs": [],
   "source": [
    "band_values = landsat_image.reduceRegion(ee.Reducer.toList(), shapefile_bbox, 30).getInfo()\n",
    "len(band_values['SR_B4'])"
   ]
  },
  {
   "cell_type": "code",
   "execution_count": null,
   "id": "940010a3",
   "metadata": {},
   "outputs": [],
   "source": [
    "def zoom_level(area=tot_area):\n",
    "    ''' zoom_level ranges from 10 (largest of 369.83082 km2) to 19 (smallest of 0.0007 km2) for all polygons\n",
    "     Each zoom-out approximately quadruples the area viewed (hence log 2)\n",
    "     calculate deviation or zoom-out extent from 19 '''\n",
    "    tradeoff = math.log2(area/0.0007)\n",
    "    return (19 - round(tradeoff/2))"
   ]
  },
  {
   "cell_type": "code",
   "execution_count": null,
   "id": "43b39db1",
   "metadata": {},
   "outputs": [],
   "source": [
    "Map = geemap.Map(center=list(feature.centroid.coords[0])[::-1], zoom=zoom_level())\n",
    "gdf_selected = gpd.GeoDataFrame(geometry=[feature])\n",
    "geo_data = ipyleaflet.GeoData(geo_dataframe=gdf_selected, style={'color': 'red', 'fillOpacity':0.01})\n",
    "\n",
    "Map.addLayer(landsat_image.clip(shapefile_bbox).mask(1), {'bands': ['SR_B4', 'SR_B3', 'SR_B2'], 'min': 0, 'max': 0.3}, 'Landsat Image', True, 0.5)\n",
    "Map.add_layer(geo_data)\n",
    "\n",
    "display(Map)"
   ]
  },
  {
   "cell_type": "markdown",
   "id": "5320572d",
   "metadata": {},
   "source": [
    "# This is for visualizing Geotiffs of AGB, BGB and GHG predictions"
   ]
  },
  {
   "cell_type": "code",
   "execution_count": null,
   "id": "a7426846",
   "metadata": {},
   "outputs": [],
   "source": [
    "from osgeo import gdal\n",
    "import numpy as np\n",
    "import math\n",
    "import matplotlib.pyplot as plt"
   ]
  },
  {
   "cell_type": "code",
   "execution_count": null,
   "id": "961ee3dd",
   "metadata": {},
   "outputs": [],
   "source": [
    "import rasterio\n",
    "from rasterio.plot import show\n",
    "\n",
    "filename = 'files/Image_meadow_17238_GHG.tif'\n",
    "with rasterio.open(filename) as src:\n",
    "    band = src.read(1)\n",
    "    extent = [src.bounds.left, src.bounds.right, src.bounds.bottom, src.bounds.top]\n",
    "    plt.figure(figsize=(10, 10))\n",
    "    plt.imshow(band, extent=extent, cmap='viridis')\n",
    "    plt.title(filename.split('.tif')[0][-3:] + ' Band')\n",
    "    plt.colorbar(label='Prediction')\n",
    "    plt.xlabel('Longitude', fontsize=10)\n",
    "    plt.ylabel('Latitude', fontsize=10)\n",
    "    plt.xticks(rotation='vertical', ha='center')\n",
    "    plt.show()"
   ]
  },
  {
   "cell_type": "code",
   "execution_count": null,
   "id": "56760a74",
   "metadata": {},
   "outputs": [],
   "source": [
    "coords = shapefile_bbox.bounds().coordinates().getInfo()[0]\n",
    "xmin, ymin = coords[0]\n",
    "xmax, ymax = coords[2]\n",
    "num_subregions = round(math.sqrt(len(band_values['SR_B4'])/1250))\n",
    "\n",
    "subregion_width = (xmax - xmin) / num_subregions\n",
    "subregion_height = (ymax - ymin) / num_subregions\n",
    "subregions = []"
   ]
  },
  {
   "cell_type": "code",
   "execution_count": null,
   "id": "e8c3a234",
   "metadata": {},
   "outputs": [],
   "source": [
    "for i in range(num_subregions):\n",
    "    for j in range(num_subregions):\n",
    "        subregion = ee.Geometry.Rectangle([xmin + i*subregion_width, ymin + j*subregion_height,\n",
    "                                           xmin + (i+1)*subregion_width, ymin + (j+1)*subregion_height])\n",
    "        subregions.append(subregion)"
   ]
  },
  {
   "cell_type": "code",
   "execution_count": null,
   "id": "6a3b1380",
   "metadata": {},
   "outputs": [],
   "source": [
    "Map = geemap.Map(center=list(feature.centroid.coords[0])[::-1], zoom=zoom_level())\n",
    "gdf_selected = gpd.GeoDataFrame(geometry=[feature])\n",
    "geo_data = ipyleaflet.GeoData(geo_dataframe=gdf_selected, style={'color': 'red', 'fillOpacity':0.01})\n",
    "\n",
    "Map.addLayer(landsat_image.clip(subregions[1]).mask(1), {'bands': ['SR_B4', 'SR_B3', 'SR_B2'], 'min': 0, 'max': 0.3}, 'Landsat Image', True, 0.5)\n",
    "Map.add_layer(geo_data)\n",
    "\n",
    "display(Map)"
   ]
  },
  {
   "cell_type": "code",
   "execution_count": null,
   "id": "6fc1f045",
   "metadata": {},
   "outputs": [],
   "source": [
    "len(subregions)"
   ]
  },
  {
   "cell_type": "code",
   "execution_count": null,
   "id": "b4686d4b",
   "metadata": {},
   "outputs": [],
   "source": []
  }
 ],
 "metadata": {
  "kernelspec": {
   "display_name": "Python 3 (ipykernel)",
   "language": "python",
   "name": "python3"
  },
  "language_info": {
   "codemirror_mode": {
    "name": "ipython",
    "version": 3
   },
   "file_extension": ".py",
   "mimetype": "text/x-python",
   "name": "python",
   "nbconvert_exporter": "python",
   "pygments_lexer": "ipython3",
   "version": "3.11.5"
  }
 },
 "nbformat": 4,
 "nbformat_minor": 5
}
