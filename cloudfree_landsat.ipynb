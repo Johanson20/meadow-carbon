{
 "cells": [
  {
   "cell_type": "code",
   "execution_count": 1,
   "id": "ff39e2ff",
   "metadata": {},
   "outputs": [],
   "source": [
    "import os\n",
    "import ee\n",
    "import geemap\n",
    "import pandas as pd"
   ]
  },
  {
   "cell_type": "code",
   "execution_count": 2,
   "id": "1ba0eb4d",
   "metadata": {},
   "outputs": [
    {
     "data": {
      "text/html": [
       "\n",
       "            <style>\n",
       "                .geemap-dark {\n",
       "                    --jp-widgets-color: white;\n",
       "                    --jp-widgets-label-color: white;\n",
       "                    --jp-ui-font-color1: white;\n",
       "                    --jp-layout-color2: #454545;\n",
       "                    background-color: #383838;\n",
       "                }\n",
       "                    \n",
       "                .geemap-dark .jupyter-button {\n",
       "                    --jp-layout-color3: #383838;\n",
       "                }\n",
       "                \n",
       "                .geemap-colab {\n",
       "                    background-color: var(--colab-primary-surface-color, white);\n",
       "                }\n",
       "                    \n",
       "                .geemap-colab .jupyter-button {\n",
       "                    --jp-layout-color3: var(--colab-primary-surface-color, white);\n",
       "                }\n",
       "            </style>\n",
       "            "
      ],
      "text/plain": [
       "<IPython.core.display.HTML object>"
      ]
     },
     "metadata": {},
     "output_type": "display_data"
    }
   ],
   "source": [
    "data = pd.read_csv(\"GHG_Data_Sample.csv\")"
   ]
  },
  {
   "cell_type": "code",
   "execution_count": 3,
   "id": "5432a5ca",
   "metadata": {},
   "outputs": [
    {
     "data": {
      "text/html": [
       "\n",
       "            <style>\n",
       "                .geemap-dark {\n",
       "                    --jp-widgets-color: white;\n",
       "                    --jp-widgets-label-color: white;\n",
       "                    --jp-ui-font-color1: white;\n",
       "                    --jp-layout-color2: #454545;\n",
       "                    background-color: #383838;\n",
       "                }\n",
       "                    \n",
       "                .geemap-dark .jupyter-button {\n",
       "                    --jp-layout-color3: #383838;\n",
       "                }\n",
       "                \n",
       "                .geemap-colab {\n",
       "                    background-color: var(--colab-primary-surface-color, white);\n",
       "                }\n",
       "                    \n",
       "                .geemap-colab .jupyter-button {\n",
       "                    --jp-layout-color3: var(--colab-primary-surface-color, white);\n",
       "                }\n",
       "            </style>\n",
       "            "
      ],
      "text/plain": [
       "<IPython.core.display.HTML object>"
      ]
     },
     "metadata": {},
     "output_type": "display_data"
    },
    {
     "data": {
      "text/html": [
       "<div>\n",
       "<style scoped>\n",
       "    .dataframe tbody tr th:only-of-type {\n",
       "        vertical-align: middle;\n",
       "    }\n",
       "\n",
       "    .dataframe tbody tr th {\n",
       "        vertical-align: top;\n",
       "    }\n",
       "\n",
       "    .dataframe thead th {\n",
       "        text-align: right;\n",
       "    }\n",
       "</style>\n",
       "<table border=\"1\" class=\"dataframe\">\n",
       "  <thead>\n",
       "    <tr style=\"text-align: right;\">\n",
       "      <th></th>\n",
       "      <th>Date</th>\n",
       "      <th>Site</th>\n",
       "      <th>ID</th>\n",
       "      <th>Lat</th>\n",
       "      <th>Long</th>\n",
       "      <th>CO2PixelDay</th>\n",
       "    </tr>\n",
       "  </thead>\n",
       "  <tbody>\n",
       "    <tr>\n",
       "      <th>0</th>\n",
       "      <td>2015-07-15</td>\n",
       "      <td>Goodrich</td>\n",
       "      <td>R1</td>\n",
       "      <td>40.366021</td>\n",
       "      <td>-120.949558</td>\n",
       "      <td>80.613691</td>\n",
       "    </tr>\n",
       "    <tr>\n",
       "      <th>1</th>\n",
       "      <td>2015-07-15</td>\n",
       "      <td>Goodrich</td>\n",
       "      <td>R10</td>\n",
       "      <td>40.365042</td>\n",
       "      <td>-120.949802</td>\n",
       "      <td>82.194613</td>\n",
       "    </tr>\n",
       "    <tr>\n",
       "      <th>2</th>\n",
       "      <td>2015-07-15</td>\n",
       "      <td>Goodrich</td>\n",
       "      <td>R11</td>\n",
       "      <td>40.365238</td>\n",
       "      <td>-120.950044</td>\n",
       "      <td>44.048585</td>\n",
       "    </tr>\n",
       "    <tr>\n",
       "      <th>3</th>\n",
       "      <td>2015-07-15</td>\n",
       "      <td>Goodrich</td>\n",
       "      <td>R12</td>\n",
       "      <td>40.365436</td>\n",
       "      <td>-120.950289</td>\n",
       "      <td>94.443643</td>\n",
       "    </tr>\n",
       "    <tr>\n",
       "      <th>4</th>\n",
       "      <td>2015-07-15</td>\n",
       "      <td>Goodrich</td>\n",
       "      <td>R2</td>\n",
       "      <td>40.365824</td>\n",
       "      <td>-120.949316</td>\n",
       "      <td>157.806186</td>\n",
       "    </tr>\n",
       "  </tbody>\n",
       "</table>\n",
       "</div>"
      ],
      "text/plain": [
       "        Date      Site   ID        Lat        Long  CO2PixelDay\n",
       "0 2015-07-15  Goodrich   R1  40.366021 -120.949558    80.613691\n",
       "1 2015-07-15  Goodrich  R10  40.365042 -120.949802    82.194613\n",
       "2 2015-07-15  Goodrich  R11  40.365238 -120.950044    44.048585\n",
       "3 2015-07-15  Goodrich  R12  40.365436 -120.950289    94.443643\n",
       "4 2015-07-15  Goodrich   R2  40.365824 -120.949316   157.806186"
      ]
     },
     "execution_count": 3,
     "metadata": {},
     "output_type": "execute_result"
    }
   ],
   "source": [
    "data['Date'] = pd.to_datetime(data['Date'], format = '%m/%d/%y')\n",
    "data.head()"
   ]
  },
  {
   "cell_type": "code",
   "execution_count": 4,
   "id": "fc97eefe",
   "metadata": {},
   "outputs": [
    {
     "data": {
      "text/html": [
       "\n",
       "            <style>\n",
       "                .geemap-dark {\n",
       "                    --jp-widgets-color: white;\n",
       "                    --jp-widgets-label-color: white;\n",
       "                    --jp-ui-font-color1: white;\n",
       "                    --jp-layout-color2: #454545;\n",
       "                    background-color: #383838;\n",
       "                }\n",
       "                    \n",
       "                .geemap-dark .jupyter-button {\n",
       "                    --jp-layout-color3: #383838;\n",
       "                }\n",
       "                \n",
       "                .geemap-colab {\n",
       "                    background-color: var(--colab-primary-surface-color, white);\n",
       "                }\n",
       "                    \n",
       "                .geemap-colab .jupyter-button {\n",
       "                    --jp-layout-color3: var(--colab-primary-surface-color, white);\n",
       "                }\n",
       "            </style>\n",
       "            "
      ],
      "text/plain": [
       "<IPython.core.display.HTML object>"
      ]
     },
     "metadata": {},
     "output_type": "display_data"
    }
   ],
   "source": [
    "#ee.Authenticate()\n",
    "ee.Initialize()"
   ]
  },
  {
   "cell_type": "code",
   "execution_count": 5,
   "id": "50032c0e",
   "metadata": {},
   "outputs": [
    {
     "data": {
      "text/html": [
       "\n",
       "            <style>\n",
       "                .geemap-dark {\n",
       "                    --jp-widgets-color: white;\n",
       "                    --jp-widgets-label-color: white;\n",
       "                    --jp-ui-font-color1: white;\n",
       "                    --jp-layout-color2: #454545;\n",
       "                    background-color: #383838;\n",
       "                }\n",
       "                    \n",
       "                .geemap-dark .jupyter-button {\n",
       "                    --jp-layout-color3: #383838;\n",
       "                }\n",
       "                \n",
       "                .geemap-colab {\n",
       "                    background-color: var(--colab-primary-surface-color, white);\n",
       "                }\n",
       "                    \n",
       "                .geemap-colab .jupyter-button {\n",
       "                    --jp-layout-color3: var(--colab-primary-surface-color, white);\n",
       "                }\n",
       "            </style>\n",
       "            "
      ],
      "text/plain": [
       "<IPython.core.display.HTML object>"
      ]
     },
     "metadata": {},
     "output_type": "display_data"
    }
   ],
   "source": [
    "def maskClouds(image):\n",
    "    quality = image.select('pixel_qa')\n",
    "    cloud = quality.bitwiseAnd(1 << 5).eq(0)    # mask out cloud shadow\n",
    "    clear = quality.bitwiseAnd(1 << 4).eq(0)     # mask out cloud\n",
    "    return image.updateMask(cloud).updateMask(clear)"
   ]
  },
  {
   "cell_type": "code",
   "execution_count": 6,
   "id": "856b9444",
   "metadata": {},
   "outputs": [
    {
     "data": {
      "text/html": [
       "\n",
       "            <style>\n",
       "                .geemap-dark {\n",
       "                    --jp-widgets-color: white;\n",
       "                    --jp-widgets-label-color: white;\n",
       "                    --jp-ui-font-color1: white;\n",
       "                    --jp-layout-color2: #454545;\n",
       "                    background-color: #383838;\n",
       "                }\n",
       "                    \n",
       "                .geemap-dark .jupyter-button {\n",
       "                    --jp-layout-color3: #383838;\n",
       "                }\n",
       "                \n",
       "                .geemap-colab {\n",
       "                    background-color: var(--colab-primary-surface-color, white);\n",
       "                }\n",
       "                    \n",
       "                .geemap-colab .jupyter-button {\n",
       "                    --jp-layout-color3: var(--colab-primary-surface-color, white);\n",
       "                }\n",
       "            </style>\n",
       "            "
      ],
      "text/plain": [
       "<IPython.core.display.HTML object>"
      ]
     },
     "metadata": {},
     "output_type": "display_data"
    }
   ],
   "source": [
    "def getBandValues(landsat_collection, point, target_date, bufferDays = 30, landsatNo = 8):\n",
    "    spatial_filtered = landsat_collection.filterBounds(point)\n",
    "    temporal_filtered = spatial_filtered.filterDate(ee.Date(target_date).advance(-bufferDays, 'day'), ee.Date(target_date).advance(bufferDays, 'day'))\n",
    "    cloud_free_images = temporal_filtered.map(maskClouds)\n",
    "    sorted_collection = cloud_free_images.sort('cloud')\n",
    "    image_list = sorted_collection.toList(sorted_collection.size())\n",
    "    noImages = image_list.size().getInfo()\n",
    "    nImage, band_values = 0, {'B2': None}\n",
    "    \n",
    "    while band_values['B2'] == None and nImage < noImages:\n",
    "        nearest_image = ee.Image(image_list.get(nImage))\n",
    "        nImage += 1\n",
    "        if landsatNo == 7:\n",
    "            bands = nearest_image.select(['B1', 'B2', 'B3', 'B4', 'B5', 'B7'])\n",
    "        else:\n",
    "            bands = nearest_image.select(['B2', 'B3', 'B4', 'B5', 'B6', 'B7'])\n",
    "        band_values = bands.reduceRegion(ee.Reducer.mean(), point, 30).getInfo()\n",
    "    \n",
    "    return band_values"
   ]
  },
  {
   "cell_type": "code",
   "execution_count": 7,
   "id": "12bdc401",
   "metadata": {},
   "outputs": [
    {
     "data": {
      "text/html": [
       "\n",
       "            <style>\n",
       "                .geemap-dark {\n",
       "                    --jp-widgets-color: white;\n",
       "                    --jp-widgets-label-color: white;\n",
       "                    --jp-ui-font-color1: white;\n",
       "                    --jp-layout-color2: #454545;\n",
       "                    background-color: #383838;\n",
       "                }\n",
       "                    \n",
       "                .geemap-dark .jupyter-button {\n",
       "                    --jp-layout-color3: #383838;\n",
       "                }\n",
       "                \n",
       "                .geemap-colab {\n",
       "                    background-color: var(--colab-primary-surface-color, white);\n",
       "                }\n",
       "                    \n",
       "                .geemap-colab .jupyter-button {\n",
       "                    --jp-layout-color3: var(--colab-primary-surface-color, white);\n",
       "                }\n",
       "            </style>\n",
       "            "
      ],
      "text/plain": [
       "<IPython.core.display.HTML object>"
      ]
     },
     "metadata": {},
     "output_type": "display_data"
    }
   ],
   "source": [
    "landsat8_collection = ee.ImageCollection('LANDSAT/LC08/C01/T1_SR')\n",
    "landsat7_collection = ee.ImageCollection('LANDSAT/LE07/C01/T1_SR')"
   ]
  },
  {
   "cell_type": "code",
   "execution_count": 19,
   "id": "db13783f",
   "metadata": {},
   "outputs": [
    {
     "data": {
      "text/html": [
       "\n",
       "            <style>\n",
       "                .geemap-dark {\n",
       "                    --jp-widgets-color: white;\n",
       "                    --jp-widgets-label-color: white;\n",
       "                    --jp-ui-font-color1: white;\n",
       "                    --jp-layout-color2: #454545;\n",
       "                    background-color: #383838;\n",
       "                }\n",
       "                    \n",
       "                .geemap-dark .jupyter-button {\n",
       "                    --jp-layout-color3: #383838;\n",
       "                }\n",
       "                \n",
       "                .geemap-colab {\n",
       "                    background-color: var(--colab-primary-surface-color, white);\n",
       "                }\n",
       "                    \n",
       "                .geemap-colab .jupyter-button {\n",
       "                    --jp-layout-color3: var(--colab-primary-surface-color, white);\n",
       "                }\n",
       "            </style>\n",
       "            "
      ],
      "text/plain": [
       "<IPython.core.display.HTML object>"
      ]
     },
     "metadata": {},
     "output_type": "display_data"
    },
    {
     "name": "stdout",
     "output_type": "stream",
     "text": [
      "0 100 200 300 400 500 600 700 800 900 1000 1100 1200 1300 1400 1500 1600 1700 1800 1900 2000 2100 2200 2300 2400 2500 2600 2700 2800 "
     ]
    },
    {
     "data": {
      "text/html": [
       "<div>\n",
       "<style scoped>\n",
       "    .dataframe tbody tr th:only-of-type {\n",
       "        vertical-align: middle;\n",
       "    }\n",
       "\n",
       "    .dataframe tbody tr th {\n",
       "        vertical-align: top;\n",
       "    }\n",
       "\n",
       "    .dataframe thead th {\n",
       "        text-align: right;\n",
       "    }\n",
       "</style>\n",
       "<table border=\"1\" class=\"dataframe\">\n",
       "  <thead>\n",
       "    <tr style=\"text-align: right;\">\n",
       "      <th></th>\n",
       "      <th>Date</th>\n",
       "      <th>Site</th>\n",
       "      <th>ID</th>\n",
       "      <th>Lat</th>\n",
       "      <th>Long</th>\n",
       "      <th>CO2PixelDay</th>\n",
       "      <th>Blue</th>\n",
       "      <th>Green</th>\n",
       "      <th>Red</th>\n",
       "      <th>NIR</th>\n",
       "      <th>SWIR_1</th>\n",
       "      <th>SWIR_2</th>\n",
       "    </tr>\n",
       "  </thead>\n",
       "  <tbody>\n",
       "    <tr>\n",
       "      <th>0</th>\n",
       "      <td>2015-07-15</td>\n",
       "      <td>Goodrich</td>\n",
       "      <td>R1</td>\n",
       "      <td>40.366021</td>\n",
       "      <td>-120.949558</td>\n",
       "      <td>80.613691</td>\n",
       "      <td>512.0</td>\n",
       "      <td>775.0</td>\n",
       "      <td>951.0</td>\n",
       "      <td>2123.0</td>\n",
       "      <td>2965.0</td>\n",
       "      <td>2136.0</td>\n",
       "    </tr>\n",
       "    <tr>\n",
       "      <th>1</th>\n",
       "      <td>2015-07-15</td>\n",
       "      <td>Goodrich</td>\n",
       "      <td>R10</td>\n",
       "      <td>40.365042</td>\n",
       "      <td>-120.949802</td>\n",
       "      <td>82.194613</td>\n",
       "      <td>481.0</td>\n",
       "      <td>732.0</td>\n",
       "      <td>888.0</td>\n",
       "      <td>2035.0</td>\n",
       "      <td>2820.0</td>\n",
       "      <td>2097.0</td>\n",
       "    </tr>\n",
       "    <tr>\n",
       "      <th>2</th>\n",
       "      <td>2015-07-15</td>\n",
       "      <td>Goodrich</td>\n",
       "      <td>R11</td>\n",
       "      <td>40.365238</td>\n",
       "      <td>-120.950044</td>\n",
       "      <td>44.048585</td>\n",
       "      <td>482.0</td>\n",
       "      <td>730.0</td>\n",
       "      <td>860.0</td>\n",
       "      <td>2101.0</td>\n",
       "      <td>2727.0</td>\n",
       "      <td>1974.0</td>\n",
       "    </tr>\n",
       "    <tr>\n",
       "      <th>3</th>\n",
       "      <td>2015-07-15</td>\n",
       "      <td>Goodrich</td>\n",
       "      <td>R12</td>\n",
       "      <td>40.365436</td>\n",
       "      <td>-120.950289</td>\n",
       "      <td>94.443643</td>\n",
       "      <td>468.0</td>\n",
       "      <td>753.0</td>\n",
       "      <td>861.0</td>\n",
       "      <td>2394.0</td>\n",
       "      <td>2800.0</td>\n",
       "      <td>1850.0</td>\n",
       "    </tr>\n",
       "    <tr>\n",
       "      <th>4</th>\n",
       "      <td>2015-07-15</td>\n",
       "      <td>Goodrich</td>\n",
       "      <td>R2</td>\n",
       "      <td>40.365824</td>\n",
       "      <td>-120.949316</td>\n",
       "      <td>157.806186</td>\n",
       "      <td>512.0</td>\n",
       "      <td>775.0</td>\n",
       "      <td>951.0</td>\n",
       "      <td>2123.0</td>\n",
       "      <td>2965.0</td>\n",
       "      <td>2136.0</td>\n",
       "    </tr>\n",
       "    <tr>\n",
       "      <th>5</th>\n",
       "      <td>2015-07-15</td>\n",
       "      <td>Goodrich</td>\n",
       "      <td>R24</td>\n",
       "      <td>40.362695</td>\n",
       "      <td>-120.952175</td>\n",
       "      <td>24.530692</td>\n",
       "      <td>411.0</td>\n",
       "      <td>663.0</td>\n",
       "      <td>759.0</td>\n",
       "      <td>2272.0</td>\n",
       "      <td>2648.0</td>\n",
       "      <td>1697.0</td>\n",
       "    </tr>\n",
       "    <tr>\n",
       "      <th>6</th>\n",
       "      <td>2015-07-15</td>\n",
       "      <td>Goodrich</td>\n",
       "      <td>R3</td>\n",
       "      <td>40.365629</td>\n",
       "      <td>-120.949073</td>\n",
       "      <td>82.042008</td>\n",
       "      <td>501.0</td>\n",
       "      <td>741.0</td>\n",
       "      <td>924.0</td>\n",
       "      <td>1903.0</td>\n",
       "      <td>2959.0</td>\n",
       "      <td>2310.0</td>\n",
       "    </tr>\n",
       "    <tr>\n",
       "      <th>7</th>\n",
       "      <td>2015-07-15</td>\n",
       "      <td>Goodrich</td>\n",
       "      <td>R4</td>\n",
       "      <td>40.365433</td>\n",
       "      <td>-120.949317</td>\n",
       "      <td>74.781880</td>\n",
       "      <td>453.0</td>\n",
       "      <td>690.0</td>\n",
       "      <td>835.0</td>\n",
       "      <td>1984.0</td>\n",
       "      <td>2704.0</td>\n",
       "      <td>2032.0</td>\n",
       "    </tr>\n",
       "    <tr>\n",
       "      <th>8</th>\n",
       "      <td>2015-07-15</td>\n",
       "      <td>Goodrich</td>\n",
       "      <td>R5</td>\n",
       "      <td>40.365631</td>\n",
       "      <td>-120.949561</td>\n",
       "      <td>75.322777</td>\n",
       "      <td>495.0</td>\n",
       "      <td>761.0</td>\n",
       "      <td>919.0</td>\n",
       "      <td>2138.0</td>\n",
       "      <td>2959.0</td>\n",
       "      <td>2123.0</td>\n",
       "    </tr>\n",
       "    <tr>\n",
       "      <th>9</th>\n",
       "      <td>2015-07-15</td>\n",
       "      <td>Goodrich</td>\n",
       "      <td>R6</td>\n",
       "      <td>40.365827</td>\n",
       "      <td>-120.949802</td>\n",
       "      <td>102.295711</td>\n",
       "      <td>497.0</td>\n",
       "      <td>765.0</td>\n",
       "      <td>936.0</td>\n",
       "      <td>2235.0</td>\n",
       "      <td>2956.0</td>\n",
       "      <td>2065.0</td>\n",
       "    </tr>\n",
       "  </tbody>\n",
       "</table>\n",
       "</div>"
      ],
      "text/plain": [
       "        Date      Site   ID        Lat        Long  CO2PixelDay   Blue  Green  \\\n",
       "0 2015-07-15  Goodrich   R1  40.366021 -120.949558    80.613691  512.0  775.0   \n",
       "1 2015-07-15  Goodrich  R10  40.365042 -120.949802    82.194613  481.0  732.0   \n",
       "2 2015-07-15  Goodrich  R11  40.365238 -120.950044    44.048585  482.0  730.0   \n",
       "3 2015-07-15  Goodrich  R12  40.365436 -120.950289    94.443643  468.0  753.0   \n",
       "4 2015-07-15  Goodrich   R2  40.365824 -120.949316   157.806186  512.0  775.0   \n",
       "5 2015-07-15  Goodrich  R24  40.362695 -120.952175    24.530692  411.0  663.0   \n",
       "6 2015-07-15  Goodrich   R3  40.365629 -120.949073    82.042008  501.0  741.0   \n",
       "7 2015-07-15  Goodrich   R4  40.365433 -120.949317    74.781880  453.0  690.0   \n",
       "8 2015-07-15  Goodrich   R5  40.365631 -120.949561    75.322777  495.0  761.0   \n",
       "9 2015-07-15  Goodrich   R6  40.365827 -120.949802   102.295711  497.0  765.0   \n",
       "\n",
       "     Red     NIR  SWIR_1  SWIR_2  \n",
       "0  951.0  2123.0  2965.0  2136.0  \n",
       "1  888.0  2035.0  2820.0  2097.0  \n",
       "2  860.0  2101.0  2727.0  1974.0  \n",
       "3  861.0  2394.0  2800.0  1850.0  \n",
       "4  951.0  2123.0  2965.0  2136.0  \n",
       "5  759.0  2272.0  2648.0  1697.0  \n",
       "6  924.0  1903.0  2959.0  2310.0  \n",
       "7  835.0  1984.0  2704.0  2032.0  \n",
       "8  919.0  2138.0  2959.0  2123.0  \n",
       "9  936.0  2235.0  2956.0  2065.0  "
      ]
     },
     "execution_count": 19,
     "metadata": {},
     "output_type": "execute_result"
    }
   ],
   "source": [
    "Blue, Green, Red, NIR, SWIR_1, SWIR_2 = [], [], [], [], [], []\n",
    "\n",
    "for id in range(data.shape[0]):\n",
    "    x, y = data.loc[id, ['Long', 'Lat']]\n",
    "    point = ee.Geometry.Point(x, y)\n",
    "    target_date = data.loc[id, 'Date'].strftime('%Y-%m-%d')\n",
    "    band_values = getBandValues(landsat8_collection, point, target_date)\n",
    "    if band_values['B2']:\n",
    "        Blue.append(band_values['B2'])\n",
    "        Green.append(band_values['B3'])\n",
    "        Red.append(band_values['B4'])\n",
    "        NIR.append(band_values['B5'])\n",
    "        SWIR_1.append(band_values['B6'])\n",
    "        SWIR_2.append(band_values['B7'])\n",
    "    else:\n",
    "        band_values = getBandValues(landsat7_collection, point, target_date, 30, 7)\n",
    "        Blue.append(band_values['B1'])\n",
    "        Green.append(band_values['B2'])\n",
    "        Red.append(band_values['B3'])\n",
    "        NIR.append(band_values['B4'])\n",
    "        SWIR_1.append(band_values['B5'])\n",
    "        SWIR_2.append(band_values['B7'])\n",
    "    \n",
    "    if id % 100 == 0:\n",
    "        print(id, end = ' ')\n",
    "\n",
    "data['Blue'] = Blue\n",
    "data['Green'] = Green\n",
    "data['Red'] = Red\n",
    "data['NIR'] = NIR\n",
    "data['SWIR_1'] = SWIR_1\n",
    "data['SWIR_2'] = SWIR_2\n",
    "\n",
    "data.head(10)"
   ]
  },
  {
   "cell_type": "code",
   "execution_count": 20,
   "id": "3c62f79b",
   "metadata": {},
   "outputs": [
    {
     "data": {
      "text/html": [
       "\n",
       "            <style>\n",
       "                .geemap-dark {\n",
       "                    --jp-widgets-color: white;\n",
       "                    --jp-widgets-label-color: white;\n",
       "                    --jp-ui-font-color1: white;\n",
       "                    --jp-layout-color2: #454545;\n",
       "                    background-color: #383838;\n",
       "                }\n",
       "                    \n",
       "                .geemap-dark .jupyter-button {\n",
       "                    --jp-layout-color3: #383838;\n",
       "                }\n",
       "                \n",
       "                .geemap-colab {\n",
       "                    background-color: var(--colab-primary-surface-color, white);\n",
       "                }\n",
       "                    \n",
       "                .geemap-colab .jupyter-button {\n",
       "                    --jp-layout-color3: var(--colab-primary-surface-color, white);\n",
       "                }\n",
       "            </style>\n",
       "            "
      ],
      "text/plain": [
       "<IPython.core.display.HTML object>"
      ]
     },
     "metadata": {},
     "output_type": "display_data"
    },
    {
     "data": {
      "text/plain": [
       "2744"
      ]
     },
     "execution_count": 20,
     "metadata": {},
     "output_type": "execute_result"
    }
   ],
   "source": [
    "len([x for x in Blue if x])"
   ]
  },
  {
   "cell_type": "code",
   "execution_count": 21,
   "id": "5a8ff969",
   "metadata": {},
   "outputs": [
    {
     "data": {
      "text/html": [
       "\n",
       "            <style>\n",
       "                .geemap-dark {\n",
       "                    --jp-widgets-color: white;\n",
       "                    --jp-widgets-label-color: white;\n",
       "                    --jp-ui-font-color1: white;\n",
       "                    --jp-layout-color2: #454545;\n",
       "                    background-color: #383838;\n",
       "                }\n",
       "                    \n",
       "                .geemap-dark .jupyter-button {\n",
       "                    --jp-layout-color3: #383838;\n",
       "                }\n",
       "                \n",
       "                .geemap-colab {\n",
       "                    background-color: var(--colab-primary-surface-color, white);\n",
       "                }\n",
       "                    \n",
       "                .geemap-colab .jupyter-button {\n",
       "                    --jp-layout-color3: var(--colab-primary-surface-color, white);\n",
       "                }\n",
       "            </style>\n",
       "            "
      ],
      "text/plain": [
       "<IPython.core.display.HTML object>"
      ]
     },
     "metadata": {},
     "output_type": "display_data"
    }
   ],
   "source": [
    "data.to_csv('GHG_Data_Sample_Bands.csv', index=False)"
   ]
  },
  {
   "cell_type": "code",
   "execution_count": 14,
   "id": "91ee7b47",
   "metadata": {},
   "outputs": [
    {
     "data": {
      "text/html": [
       "\n",
       "            <style>\n",
       "                .geemap-dark {\n",
       "                    --jp-widgets-color: white;\n",
       "                    --jp-widgets-label-color: white;\n",
       "                    --jp-ui-font-color1: white;\n",
       "                    --jp-layout-color2: #454545;\n",
       "                    background-color: #383838;\n",
       "                }\n",
       "                    \n",
       "                .geemap-dark .jupyter-button {\n",
       "                    --jp-layout-color3: #383838;\n",
       "                }\n",
       "                \n",
       "                .geemap-colab {\n",
       "                    background-color: var(--colab-primary-surface-color, white);\n",
       "                }\n",
       "                    \n",
       "                .geemap-colab .jupyter-button {\n",
       "                    --jp-layout-color3: var(--colab-primary-surface-color, white);\n",
       "                }\n",
       "            </style>\n",
       "            "
      ],
      "text/plain": [
       "<IPython.core.display.HTML object>"
      ]
     },
     "metadata": {},
     "output_type": "display_data"
    }
   ],
   "source": [
    "x, y = data.loc[1, ['Long', 'Lat']]\n",
    "point = ee.Geometry.Point(x, y)"
   ]
  },
  {
   "cell_type": "code",
   "execution_count": 15,
   "id": "ed28c6de",
   "metadata": {},
   "outputs": [
    {
     "data": {
      "text/html": [
       "\n",
       "            <style>\n",
       "                .geemap-dark {\n",
       "                    --jp-widgets-color: white;\n",
       "                    --jp-widgets-label-color: white;\n",
       "                    --jp-ui-font-color1: white;\n",
       "                    --jp-layout-color2: #454545;\n",
       "                    background-color: #383838;\n",
       "                }\n",
       "                    \n",
       "                .geemap-dark .jupyter-button {\n",
       "                    --jp-layout-color3: #383838;\n",
       "                }\n",
       "                \n",
       "                .geemap-colab {\n",
       "                    background-color: var(--colab-primary-surface-color, white);\n",
       "                }\n",
       "                    \n",
       "                .geemap-colab .jupyter-button {\n",
       "                    --jp-layout-color3: var(--colab-primary-surface-color, white);\n",
       "                }\n",
       "            </style>\n",
       "            "
      ],
      "text/plain": [
       "<IPython.core.display.HTML object>"
      ]
     },
     "metadata": {},
     "output_type": "display_data"
    }
   ],
   "source": [
    "target_date = data.loc[1, 'Date'].strftime('%Y-%m-%d')"
   ]
  },
  {
   "cell_type": "code",
   "execution_count": null,
   "id": "b8992edc",
   "metadata": {},
   "outputs": [],
   "source": [
    "spatial_filtered = landsat_collection.filterBounds(point)\n",
    "temporal_filtered = spatial_filtered.filterDate(ee.Date(target_date).advance(-7, 'day'), ee.Date(target_date).advance(7, 'day'))"
   ]
  },
  {
   "cell_type": "code",
   "execution_count": null,
   "id": "9e14d7a4",
   "metadata": {},
   "outputs": [],
   "source": [
    "cloud_free_images = temporal_filtered.map(maskClouds)#.map(calculateCloudScore)"
   ]
  },
  {
   "cell_type": "code",
   "execution_count": null,
   "id": "546897c2",
   "metadata": {},
   "outputs": [],
   "source": [
    "sorted_collection = cloud_free_images.sort('cloud')"
   ]
  },
  {
   "cell_type": "code",
   "execution_count": null,
   "id": "3d935c47",
   "metadata": {},
   "outputs": [],
   "source": [
    "nearest_image = ee.Image(sorted_collection.first())"
   ]
  },
  {
   "cell_type": "code",
   "execution_count": null,
   "id": "13d21cda",
   "metadata": {
    "scrolled": true
   },
   "outputs": [],
   "source": [
    "nearest_image"
   ]
  },
  {
   "cell_type": "code",
   "execution_count": null,
   "id": "aa95177a",
   "metadata": {},
   "outputs": [],
   "source": [
    "bands = nearest_image.select(['B2', 'B3', 'B4', 'B5', 'B6', 'B7'])"
   ]
  },
  {
   "cell_type": "code",
   "execution_count": null,
   "id": "f8c2d800",
   "metadata": {},
   "outputs": [],
   "source": [
    "bands"
   ]
  },
  {
   "cell_type": "code",
   "execution_count": null,
   "id": "99877c14",
   "metadata": {},
   "outputs": [],
   "source": [
    "band_values = bands.reduceRegion(ee.Reducer.mean(), point, 30).getInfo()"
   ]
  },
  {
   "cell_type": "code",
   "execution_count": null,
   "id": "ae6e64f6",
   "metadata": {},
   "outputs": [],
   "source": [
    "print('Band Values:', band_values)"
   ]
  },
  {
   "cell_type": "code",
   "execution_count": null,
   "id": "61c6f316",
   "metadata": {},
   "outputs": [],
   "source": [
    "map_l8 = geemap.Map(center=[y,x], zoom=10)\n",
    "image_viz_params = {'bands': ['B5', 'B4', 'B3'], 'min': 0, 'max': 0.5, 'gamma': [0.95, 1.1, 1]}\n",
    "\n",
    "# Add the image layer to the map and display it.\n",
    "map_l8.add_layer(nearest_image, image_viz_params, 'false color composite')\n",
    "display(map_l8)"
   ]
  },
  {
   "cell_type": "code",
   "execution_count": null,
   "id": "76278068",
   "metadata": {},
   "outputs": [],
   "source": []
  }
 ],
 "metadata": {
  "kernelspec": {
   "display_name": "Python 3 (ipykernel)",
   "language": "python",
   "name": "python3"
  },
  "language_info": {
   "codemirror_mode": {
    "name": "ipython",
    "version": 3
   },
   "file_extension": ".py",
   "mimetype": "text/x-python",
   "name": "python",
   "nbconvert_exporter": "python",
   "pygments_lexer": "ipython3",
   "version": "3.9.7"
  }
 },
 "nbformat": 4,
 "nbformat_minor": 5
}
